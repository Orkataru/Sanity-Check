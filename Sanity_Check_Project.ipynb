{
  "nbformat": 4,
  "nbformat_minor": 0,
  "metadata": {
    "colab": {
      "provenance": []
    },
    "kernelspec": {
      "name": "python3",
      "display_name": "Python 3"
    },
    "language_info": {
      "name": "python"
    }
  },
  "cells": [
    {
      "cell_type": "markdown",
      "source": [
        "# CS210 Project - Comparative Education Index in Turkey, Before and After the Earthquake\n",
        "\n",
        "#Team Information\n",
        "##Serhan YILMAZ, Bilgehan Bilgin, Mustafa Harun Şendur, Beste Bayhan\n",
        "##Team Name: Sanity Check\n",
        "\n",
        "\n",
        "# Introduction\n",
        "\n",
        "This project aims to create an ML model. for predicting an education index for every province in Turkey. Now, the ML model uses the data columns provided by istatistik.meb.gov.tr. The data columns are: Student per Teacher, Student per School, Student per Classroom, Budget per Student and the HDI Index, provided by the United Nations Development Programme (UNDP). The features are gathered for 4 different education levels: Kindergarten, Primary School, Secondary School, and High School. The data is gathered from the years 2012 to 2020.\n",
        "\n",
        "The education index is calculated with giving weights to each feature, as seen below. The functions are defined by ourselves, by giving consideration to each feature. After the pre_hdi_education_index is created, the final education_index is created by multiplying the index by the HDI Index, to take matters such as Socioeconomical development into consideration.\n",
        "\n",
        "Using the data from 2012 to 2020, the data from 2021 to 2030 is predicted using ML Regression Models. After the data is predicted (generated) for the years 2021 to 2030, the education index generator is used again to calculate the new (predicted) education index for those years.\n",
        "\n",
        "The years' different datasets are finally merged (known and predicted datasets) and the final dataset is visualized to provide insights for the future of development in Turkish cities, and gives great insight for where to invest and where to change policies all throughout Turkey."
      ],
      "metadata": {
        "id": "M6Tp_KAFHguz"
      }
    },
    {
      "cell_type": "markdown",
      "source": [
        "# Loading Modules and Data"
      ],
      "metadata": {
        "id": "dbng01h2A3j4"
      }
    },
    {
      "cell_type": "markdown",
      "source": [
        "## Importing libraries"
      ],
      "metadata": {
        "id": "8iW583BRA6qQ"
      }
    },
    {
      "cell_type": "code",
      "execution_count": null,
      "metadata": {
        "id": "9kGmMN7PEzOv"
      },
      "outputs": [],
      "source": [
        "from google.colab import drive \n",
        "import numpy as np\n",
        "import pandas as pd\n",
        "import seaborn as sns\n",
        "import tabula\n",
        "import pandas as pd\n",
        "import pandas as pd\n",
        "import numpy as np\n",
        "from sklearn.model_selection import train_test_split\n",
        "from sklearn.linear_model import LinearRegression\n",
        "from sklearn.metrics import mean_squared_error, r2_score\n",
        "import matplotlib.pyplot as plt"
      ]
    },
    {
      "cell_type": "markdown",
      "source": [
        "#Defining the Functions for Later Use"
      ],
      "metadata": {
        "id": "zzmEd1Ls-jef"
      }
    },
    {
      "cell_type": "markdown",
      "source": [
        "##Histogram Visualizer Function"
      ],
      "metadata": {
        "id": "G38TSci987CX"
      }
    },
    {
      "cell_type": "code",
      "source": [
        "def histogrammer(data, year):\n",
        "  data.hist(figsize=(15, 15))\n",
        "  plt.suptitle(f'Histograms for {year} Dataset')\n",
        "  plt.show()"
      ],
      "metadata": {
        "id": "kALkRogx89_g"
      },
      "execution_count": null,
      "outputs": []
    },
    {
      "cell_type": "markdown",
      "source": [
        "##Box Plotter Function"
      ],
      "metadata": {
        "id": "fLy2Q9sw9G24"
      }
    },
    {
      "cell_type": "code",
      "source": [
        "def boxplotter(data, year):\n",
        "  data.plot(kind='box', subplots=True, layout=(4, 4), figsize=(15, 15), sharex=False, sharey=False)\n",
        "  plt.suptitle(f'Box Plots for {year} Dataset')\n",
        "  plt.show()"
      ],
      "metadata": {
        "id": "IK1NtW1l9J6H"
      },
      "execution_count": null,
      "outputs": []
    },
    {
      "cell_type": "markdown",
      "source": [
        "##Train and Predict Function"
      ],
      "metadata": {
        "id": "qJE6f0QNbJzn"
      }
    },
    {
      "cell_type": "code",
      "source": [
        "# Function to train a model and make predictions\n",
        "def train_and_predict(X_train, y_train, X_future):\n",
        "    regressor = LinearRegression()\n",
        "    regressor.fit(X_train, y_train)\n",
        "    return regressor.predict(X_future)"
      ],
      "metadata": {
        "id": "3zP0EkigqvjH"
      },
      "execution_count": null,
      "outputs": []
    },
    {
      "cell_type": "markdown",
      "source": [
        "##Calculate Education Index Function"
      ],
      "metadata": {
        "id": "TwTrrN724J3P"
      }
    },
    {
      "cell_type": "code",
      "source": [
        "def calculate_education_index(data, weights):\n",
        "    normalized_data = (data - data.min()) / (data.max() - data.min())\n",
        "    education_index_pre_hdi = sum(normalized_data[column] * weight for column, weight in weights.items())\n",
        "    education_index = education_index_pre_hdi * data['hdi_index']\n",
        "    return education_index"
      ],
      "metadata": {
        "id": "2OeldSoY4NB3"
      },
      "execution_count": null,
      "outputs": []
    },
    {
      "cell_type": "markdown",
      "source": [
        "#Define Weights for Each Feature"
      ],
      "metadata": {
        "id": "mdB47wME4P2v"
      }
    },
    {
      "cell_type": "code",
      "source": [
        "weights = {\n",
        "    'stu_per_tch_kindergarten': 0.05,\n",
        "    'stu_per_sch_kindergarten': 0.05,\n",
        "    'stu_per_class_kindergarten': 0.05,\n",
        "    'budget_per_stu_kindergarten': 0.05,\n",
        "    'schoolization_ratio_kindergarten': 0.2,\n",
        "    \n",
        "    'stu_per_tch_primary': 0.05,\n",
        "    'stu_per_sch_primary': 0.05,\n",
        "    'stu_per_class_primary': 0.05,\n",
        "    'budget_per_stu_primary': 0.05,\n",
        "    'schoolization_ratio_primary': 0.2,\n",
        "\n",
        "    'stu_per_tch_secondary': 0.05,\n",
        "    'stu_per_sch_secondary': 0.05,\n",
        "    'stu_per_class_secondary': 0.05,\n",
        "    'budget_per_stu_secondary': 0.05,\n",
        "    'schoolization_ratio_secondary': 0.2,\n",
        "\n",
        "    'stu_per_tch_high': 0.05,\n",
        "    'stu_per_sch_high': 0.05,\n",
        "    'stu_per_class_high': 0.05,\n",
        "    'budget_per_stu_high': 0.05,\n",
        "    'schoolization_ratio_high': 0.2,\n",
        "}"
      ],
      "metadata": {
        "id": "9QSHVJQL4WiH"
      },
      "execution_count": null,
      "outputs": []
    },
    {
      "cell_type": "markdown",
      "source": [
        "#Starting the Data Processing"
      ],
      "metadata": {
        "id": "uPN6OTpU-slZ"
      }
    },
    {
      "cell_type": "markdown",
      "source": [
        "##Load and Process the Data for each Year"
      ],
      "metadata": {
        "id": "7X0Tsgge4aw_"
      }
    },
    {
      "cell_type": "code",
      "source": [
        "all_data = []\n",
        "for year in range(2012, 2021):\n",
        "    data = pd.read_csv(f'your_dataset_{year}.csv')\n",
        "    education_index = calculate_education_index(data, weights)\n",
        "    data['education_index'] = education_index\n",
        "    data['year'] = year\n",
        "    all_data.append(data)"
      ],
      "metadata": {
        "id": "y-ZlO4_W4mNe"
      },
      "execution_count": null,
      "outputs": []
    },
    {
      "cell_type": "markdown",
      "source": [
        "##Combine the Data for All Years\n"
      ],
      "metadata": {
        "id": "WRE_utS34pe_"
      }
    },
    {
      "cell_type": "code",
      "source": [
        "combined_data = pd.concat(all_data, ignore_index=True)\n"
      ],
      "metadata": {
        "id": "wPBIeQgt4sMn"
      },
      "execution_count": null,
      "outputs": []
    },
    {
      "cell_type": "markdown",
      "source": [
        "#Some Data Visualization to See Our Work"
      ],
      "metadata": {
        "id": "wa3mkl6k-2Of"
      }
    },
    {
      "cell_type": "markdown",
      "source": [
        "##Visualize the Correlation Matrix Heatmap"
      ],
      "metadata": {
        "id": "Gy08FmYd9Vr3"
      }
    },
    {
      "cell_type": "code",
      "source": [
        "corr_matrix = combined_data.corr()\n",
        "plt.figure(figsize=(12, 12))\n",
        "sns.heatmap(corr_matrix, annot=True, cmap='coolwarm')\n",
        "plt.title('Correlation Matrix Heatmap')\n",
        "plt.show()"
      ],
      "metadata": {
        "id": "g4USUSL59Y9P"
      },
      "execution_count": null,
      "outputs": []
    },
    {
      "cell_type": "markdown",
      "source": [
        "##Visualize the Actual Values for Every Column for the Years 2012 to 2020"
      ],
      "metadata": {
        "id": "pl1mtTmU6Mdv"
      }
    },
    {
      "cell_type": "code",
      "source": [
        "for column in weights.keys():\n",
        "    plt.plot(combined_data['year'], combined_data[column], marker='o', label=column)\n",
        "plt.xlabel('Year')\n",
        "plt.ylabel('Actual Values')\n",
        "plt.title('Actual Values for Each Column (2012-2020)')\n",
        "plt.legend()\n",
        "plt.grid()\n",
        "plt.show()"
      ],
      "metadata": {
        "id": "55Qb98YX6TS_"
      },
      "execution_count": null,
      "outputs": []
    },
    {
      "cell_type": "markdown",
      "source": [
        "##Visualize the Calculated Education Index for the Years 2012 to 2020"
      ],
      "metadata": {
        "id": "UzwnuNM-8YFg"
      }
    },
    {
      "cell_type": "code",
      "source": [
        "plt.plot(combined_data['year'], combined_data['education_index'], marker='o')\n",
        "plt.xlabel('Year')\n",
        "plt.ylabel('Actual Education Index')\n",
        "plt.title('Actual Education Index for 2012-2020')\n",
        "plt.grid()\n",
        "plt.show()"
      ],
      "metadata": {
        "id": "XawDkzvo8gJI"
      },
      "execution_count": null,
      "outputs": []
    },
    {
      "cell_type": "markdown",
      "source": [
        "#Prepare the Future Data"
      ],
      "metadata": {
        "id": "EMjR65X65Ktf"
      }
    },
    {
      "cell_type": "code",
      "source": [
        "future_years = np.arange(2021, 2031)\n",
        "future_data = pd.DataFrame({'year': future_years})"
      ],
      "metadata": {
        "id": "-3tlZXz55MlH"
      },
      "execution_count": null,
      "outputs": []
    },
    {
      "cell_type": "markdown",
      "source": [
        "#Predict Each Column for the Years 2021 to 2030"
      ],
      "metadata": {
        "id": "D94dFuS95O3H"
      }
    },
    {
      "cell_type": "code",
      "source": [
        "for column in weights.keys():\n",
        "    X_train = combined_data[['year']]\n",
        "    y_train = combined_data[column]\n",
        "    future_data[column] = train_and_predict(X_train, y_train, future_data[['year']])"
      ],
      "metadata": {
        "id": "qpsE6dod5TMX"
      },
      "execution_count": null,
      "outputs": []
    },
    {
      "cell_type": "markdown",
      "source": [
        "#Calculate the Education Index for the Predicted Values"
      ],
      "metadata": {
        "id": "gBNIplKA5WWf"
      }
    },
    {
      "cell_type": "code",
      "source": [
        "# Calculate the education index for the predicted values\n",
        "future_data['predicted_education_index'] = calculate_education_index(future_data, weights)"
      ],
      "metadata": {
        "id": "ZuSJriFr5cvf"
      },
      "execution_count": null,
      "outputs": []
    },
    {
      "cell_type": "markdown",
      "source": [
        "#Visualize the Predicted Education Index for the Years 2021 to 2030"
      ],
      "metadata": {
        "id": "Zya1-nho5hC_"
      }
    },
    {
      "cell_type": "code",
      "source": [
        "plt.plot(future_data['year'], future_data['predicted_education_index'], marker='o')\n",
        "plt.xlabel('Year')\n",
        "plt.ylabel('Predicted Education Index')\n",
        "plt.title('Predicted Education Index for 2021-2030')\n",
        "plt.grid()\n",
        "plt.show()"
      ],
      "metadata": {
        "id": "V2tAVfhQ5wdX"
      },
      "execution_count": null,
      "outputs": []
    },
    {
      "cell_type": "markdown",
      "source": [
        "#Combine the Actual and Predicted Indexes Into One DataFrame"
      ],
      "metadata": {
        "id": "DeVbjo7D-F0_"
      }
    },
    {
      "cell_type": "code",
      "source": [
        "actual_indexes = combined_data[['year', 'education_index']].rename(columns={'education_index': 'actual_education_index'})\n",
        "predicted_indexes = future_data[['year', 'predicted_education_index']]\n",
        "all_indexes = pd.concat([actual_indexes, predicted_indexes], axis=1)"
      ],
      "metadata": {
        "id": "OWuuEG_c-K6X"
      },
      "execution_count": null,
      "outputs": []
    },
    {
      "cell_type": "markdown",
      "source": [
        "#Plot the Actual and Predicted Education Indexes"
      ],
      "metadata": {
        "id": "xzSXI9em-RRO"
      }
    },
    {
      "cell_type": "code",
      "source": [
        "plt.plot(all_indexes['year'], all_indexes['actual_education_index'], marker='o', label='Actual Education Index (2012-2020)')\n",
        "plt.plot(all_indexes['year'], all_indexes['predicted_education_index'], marker='o', linestyle='--', label='Predicted Education Index (2021-2030)')\n",
        "plt.xlabel('Year')\n",
        "plt.ylabel('Education Index')\n",
        "plt.title('Actual and Predicted Education Index (2012-2030)')\n",
        "plt.legend()\n",
        "plt.grid()\n",
        "plt.show()"
      ],
      "metadata": {
        "id": "CY3UsWUu-Zpf"
      },
      "execution_count": null,
      "outputs": []
    },
    {
      "cell_type": "markdown",
      "source": [
        "#Our Project Ends Here, See You In Future Projects!"
      ],
      "metadata": {
        "id": "onLcheLwDIbX"
      }
    }
  ]
}