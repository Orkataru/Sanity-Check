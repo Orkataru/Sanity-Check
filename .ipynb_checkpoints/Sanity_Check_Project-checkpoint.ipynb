{
 "cells": [
  {
   "cell_type": "markdown",
   "metadata": {
    "id": "M6Tp_KAFHguz"
   },
   "source": [
    "# CS210 Project - Comparative Education Index in Turkey, Before and After the Earthquake\n",
    "\n",
    "#Team Information\n",
    "##Serhan YILMAZ, Bilgehan Bilgin, Mustafa Harun Şendur, Beste Bayhan\n",
    "##Team Name: Sanity Check\n",
    "\n",
    "\n",
    "# Introduction\n",
    "\n",
    "This project aims to create an ML model. for predicting an education index for every province in Turkey. Now, the ML model uses the data columns provided by istatistik.meb.gov.tr. The data columns are: Student per Teacher, Student per School, Student per Classroom, Budget per Student and the HDI Index, provided by the United Nations Development Programme (UNDP). The features are gathered for 4 different education levels: Kindergarten, Primary School, Secondary School, and High School. The data is gathered from the years 2012 to 2020.\n",
    "\n",
    "The education index is calculated with giving weights to each feature, as seen below. The functions are defined by ourselves, by giving consideration to each feature. After the pre_hdi_education_index is created, the final education_index is created by multiplying the index by the HDI Index, to take matters such as Socioeconomical development into consideration.\n",
    "\n",
    "Using the data from 2012 to 2020, the data from 2021 to 2030 is predicted using ML Regression Models. After the data is predicted (generated) for the years 2021 to 2030, the education index generator is used again to calculate the new (predicted) education index for those years.\n",
    "\n",
    "The years' different datasets are finally merged (known and predicted datasets) and the final dataset is visualized to provide insights for the future of development in Turkish cities, and gives great insight for where to invest and where to change policies all throughout Turkey."
   ]
  },
  {
   "cell_type": "markdown",
   "metadata": {
    "id": "dbng01h2A3j4"
   },
   "source": [
    "# Loading Modules and Data"
   ]
  },
  {
   "cell_type": "markdown",
   "metadata": {
    "id": "8iW583BRA6qQ"
   },
   "source": [
    "## Importing libraries"
   ]
  },
  {
   "cell_type": "code",
   "execution_count": 3,
   "metadata": {
    "id": "9kGmMN7PEzOv"
   },
   "outputs": [],
   "source": [
    "#from google.colab import drive \n",
    "import numpy as np\n",
    "import pandas as pd\n",
    "import seaborn as sns\n",
    "#import tabula\n",
    "import pandas as pd\n",
    "import pandas as pd\n",
    "import numpy as np\n",
    "from sklearn.model_selection import train_test_split\n",
    "from sklearn.linear_model import LinearRegression\n",
    "from sklearn.metrics import mean_squared_error, r2_score\n",
    "import matplotlib.pyplot as plt"
   ]
  },
  {
   "cell_type": "markdown",
   "metadata": {
    "id": "zzmEd1Ls-jef"
   },
   "source": [
    "#Defining the Functions for Later Use"
   ]
  },
  {
   "cell_type": "markdown",
   "metadata": {
    "id": "G38TSci987CX"
   },
   "source": [
    "##Histogram Visualizer Function"
   ]
  },
  {
   "cell_type": "code",
   "execution_count": 4,
   "metadata": {
    "id": "kALkRogx89_g"
   },
   "outputs": [],
   "source": [
    "def histogrammer(data, year):\n",
    "  data.hist(figsize=(15, 15))\n",
    "  plt.suptitle(f'Histograms for {year} Dataset')\n",
    "  plt.show()"
   ]
  },
  {
   "cell_type": "markdown",
   "metadata": {
    "id": "fLy2Q9sw9G24"
   },
   "source": [
    "##Box Plotter Function"
   ]
  },
  {
   "cell_type": "code",
   "execution_count": 5,
   "metadata": {
    "id": "IK1NtW1l9J6H"
   },
   "outputs": [],
   "source": [
    "def boxplotter(data, year):\n",
    "  data.plot(kind='box', subplots=True, layout=(4, 4), figsize=(15, 15), sharex=False, sharey=False)\n",
    "  plt.suptitle(f'Box Plots for {year} Dataset')\n",
    "  plt.show()"
   ]
  },
  {
   "cell_type": "markdown",
   "metadata": {
    "id": "qJE6f0QNbJzn"
   },
   "source": [
    "##Train and Predict Function"
   ]
  },
  {
   "cell_type": "code",
   "execution_count": 6,
   "metadata": {
    "id": "3zP0EkigqvjH"
   },
   "outputs": [],
   "source": [
    "# Function to train a model and make predictions\n",
    "def train_and_predict(X_train, y_train, X_future):\n",
    "    regressor = LinearRegression()\n",
    "    regressor.fit(X_train, y_train)\n",
    "    return regressor.predict(X_future)"
   ]
  },
  {
   "cell_type": "markdown",
   "metadata": {
    "id": "TwTrrN724J3P"
   },
   "source": [
    "##Calculate Education Index Function"
   ]
  },
  {
   "cell_type": "code",
   "execution_count": 7,
   "metadata": {
    "id": "2OeldSoY4NB3"
   },
   "outputs": [],
   "source": [
    "def calculate_education_index(data, weights):\n",
    "    normalized_data = (data - data.min()) / (data.max() - data.min())\n",
    "    education_index_pre_hdi = sum(normalized_data[column] * weight for column, weight in weights.items())\n",
    "    education_index = education_index_pre_hdi * data['hdi_index']\n",
    "    return education_index"
   ]
  },
  {
   "cell_type": "markdown",
   "metadata": {
    "id": "mdB47wME4P2v"
   },
   "source": [
    "#Define Weights for Each Feature"
   ]
  },
  {
   "cell_type": "code",
   "execution_count": 8,
   "metadata": {
    "id": "9QSHVJQL4WiH"
   },
   "outputs": [],
   "source": [
    "weights = {\n",
    "    'stu_per_tch_kindergarten': 0.05,\n",
    "    'stu_per_sch_kindergarten': 0.05,\n",
    "    'stu_per_class_kindergarten': 0.05,\n",
    "    'budget_per_stu_kindergarten': 0.05,\n",
    "    'schoolization_ratio_kindergarten': 0.2,\n",
    "    \n",
    "    'stu_per_tch_primary': 0.05,\n",
    "    'stu_per_sch_primary': 0.05,\n",
    "    'stu_per_class_primary': 0.05,\n",
    "    'budget_per_stu_primary': 0.05,\n",
    "    'schoolization_ratio_primary': 0.2,\n",
    "\n",
    "    'stu_per_tch_secondary': 0.05,\n",
    "    'stu_per_sch_secondary': 0.05,\n",
    "    'stu_per_class_secondary': 0.05,\n",
    "    'budget_per_stu_secondary': 0.05,\n",
    "    'schoolization_ratio_secondary': 0.2,\n",
    "\n",
    "    'stu_per_tch_high': 0.05,\n",
    "    'stu_per_sch_high': 0.05,\n",
    "    'stu_per_class_high': 0.05,\n",
    "    'budget_per_stu_high': 0.05,\n",
    "    'schoolization_ratio_high': 0.2,\n",
    "}"
   ]
  },
  {
   "cell_type": "markdown",
   "metadata": {
    "id": "uPN6OTpU-slZ"
   },
   "source": [
    "#Starting the Data Processing"
   ]
  },
  {
   "cell_type": "markdown",
   "metadata": {
    "id": "7X0Tsgge4aw_"
   },
   "source": [
    "##Load and Process the Data for each Year"
   ]
  },
  {
   "cell_type": "code",
   "execution_count": 11,
   "metadata": {
    "id": "y-ZlO4_W4mNe"
   },
   "outputs": [
    {
     "ename": "UnicodeDecodeError",
     "evalue": "'utf-8' codec can't decode byte 0xfd in position 1318: invalid start byte",
     "output_type": "error",
     "traceback": [
      "\u001b[1;31m---------------------------------------------------------------------------\u001b[0m",
      "\u001b[1;31mUnicodeDecodeError\u001b[0m                        Traceback (most recent call last)",
      "Cell \u001b[1;32mIn[11], line 3\u001b[0m\n\u001b[0;32m      1\u001b[0m all_data \u001b[38;5;241m=\u001b[39m []\n\u001b[0;32m      2\u001b[0m \u001b[38;5;28;01mfor\u001b[39;00m year \u001b[38;5;129;01min\u001b[39;00m \u001b[38;5;28mrange\u001b[39m(\u001b[38;5;241m2019\u001b[39m, \u001b[38;5;241m2022\u001b[39m):\n\u001b[1;32m----> 3\u001b[0m     data \u001b[38;5;241m=\u001b[39m \u001b[43mpd\u001b[49m\u001b[38;5;241;43m.\u001b[39;49m\u001b[43mread_csv\u001b[49m\u001b[43m(\u001b[49m\u001b[38;5;124;43mf\u001b[39;49m\u001b[38;5;124;43m'\u001b[39;49m\u001b[38;5;124;43mC:\u001b[39;49m\u001b[38;5;130;43;01m\\\\\u001b[39;49;00m\u001b[38;5;124;43mUsers\u001b[39;49m\u001b[38;5;130;43;01m\\\\\u001b[39;49;00m\u001b[38;5;124;43mSerhan\u001b[39;49m\u001b[38;5;130;43;01m\\\\\u001b[39;49;00m\u001b[38;5;124;43mDesktop\u001b[39;49m\u001b[38;5;130;43;01m\\\\\u001b[39;49;00m\u001b[38;5;124;43mCS210 Proje\u001b[39;49m\u001b[38;5;130;43;01m\\\\\u001b[39;49;00m\u001b[38;5;124;43mSanity-Check\u001b[39;49m\u001b[38;5;130;43;01m\\\\\u001b[39;49;00m\u001b[38;5;124;43mdata\u001b[39;49m\u001b[38;5;130;43;01m\\\\\u001b[39;49;00m\u001b[38;5;124;43mcsv\u001b[39;49m\u001b[38;5;130;43;01m\\\\\u001b[39;49;00m\u001b[38;5;124;43mdata_\u001b[39;49m\u001b[38;5;132;43;01m{\u001b[39;49;00m\u001b[43myear\u001b[49m\u001b[38;5;132;43;01m}\u001b[39;49;00m\u001b[38;5;124;43m.csv\u001b[39;49m\u001b[38;5;124;43m'\u001b[39;49m\u001b[43m)\u001b[49m\n\u001b[0;32m      4\u001b[0m     education_index \u001b[38;5;241m=\u001b[39m calculate_education_index(data, weights)\n\u001b[0;32m      5\u001b[0m     data[\u001b[38;5;124m'\u001b[39m\u001b[38;5;124meducation_index\u001b[39m\u001b[38;5;124m'\u001b[39m] \u001b[38;5;241m=\u001b[39m education_index\n",
      "File \u001b[1;32mC:\\ProgramData\\anaconda3\\lib\\site-packages\\pandas\\util\\_decorators.py:211\u001b[0m, in \u001b[0;36mdeprecate_kwarg.<locals>._deprecate_kwarg.<locals>.wrapper\u001b[1;34m(*args, **kwargs)\u001b[0m\n\u001b[0;32m    209\u001b[0m     \u001b[38;5;28;01melse\u001b[39;00m:\n\u001b[0;32m    210\u001b[0m         kwargs[new_arg_name] \u001b[38;5;241m=\u001b[39m new_arg_value\n\u001b[1;32m--> 211\u001b[0m \u001b[38;5;28;01mreturn\u001b[39;00m func(\u001b[38;5;241m*\u001b[39margs, \u001b[38;5;241m*\u001b[39m\u001b[38;5;241m*\u001b[39mkwargs)\n",
      "File \u001b[1;32mC:\\ProgramData\\anaconda3\\lib\\site-packages\\pandas\\util\\_decorators.py:331\u001b[0m, in \u001b[0;36mdeprecate_nonkeyword_arguments.<locals>.decorate.<locals>.wrapper\u001b[1;34m(*args, **kwargs)\u001b[0m\n\u001b[0;32m    325\u001b[0m \u001b[38;5;28;01mif\u001b[39;00m \u001b[38;5;28mlen\u001b[39m(args) \u001b[38;5;241m>\u001b[39m num_allow_args:\n\u001b[0;32m    326\u001b[0m     warnings\u001b[38;5;241m.\u001b[39mwarn(\n\u001b[0;32m    327\u001b[0m         msg\u001b[38;5;241m.\u001b[39mformat(arguments\u001b[38;5;241m=\u001b[39m_format_argument_list(allow_args)),\n\u001b[0;32m    328\u001b[0m         \u001b[38;5;167;01mFutureWarning\u001b[39;00m,\n\u001b[0;32m    329\u001b[0m         stacklevel\u001b[38;5;241m=\u001b[39mfind_stack_level(),\n\u001b[0;32m    330\u001b[0m     )\n\u001b[1;32m--> 331\u001b[0m \u001b[38;5;28;01mreturn\u001b[39;00m func(\u001b[38;5;241m*\u001b[39margs, \u001b[38;5;241m*\u001b[39m\u001b[38;5;241m*\u001b[39mkwargs)\n",
      "File \u001b[1;32mC:\\ProgramData\\anaconda3\\lib\\site-packages\\pandas\\io\\parsers\\readers.py:950\u001b[0m, in \u001b[0;36mread_csv\u001b[1;34m(filepath_or_buffer, sep, delimiter, header, names, index_col, usecols, squeeze, prefix, mangle_dupe_cols, dtype, engine, converters, true_values, false_values, skipinitialspace, skiprows, skipfooter, nrows, na_values, keep_default_na, na_filter, verbose, skip_blank_lines, parse_dates, infer_datetime_format, keep_date_col, date_parser, dayfirst, cache_dates, iterator, chunksize, compression, thousands, decimal, lineterminator, quotechar, quoting, doublequote, escapechar, comment, encoding, encoding_errors, dialect, error_bad_lines, warn_bad_lines, on_bad_lines, delim_whitespace, low_memory, memory_map, float_precision, storage_options)\u001b[0m\n\u001b[0;32m    935\u001b[0m kwds_defaults \u001b[38;5;241m=\u001b[39m _refine_defaults_read(\n\u001b[0;32m    936\u001b[0m     dialect,\n\u001b[0;32m    937\u001b[0m     delimiter,\n\u001b[1;32m   (...)\u001b[0m\n\u001b[0;32m    946\u001b[0m     defaults\u001b[38;5;241m=\u001b[39m{\u001b[38;5;124m\"\u001b[39m\u001b[38;5;124mdelimiter\u001b[39m\u001b[38;5;124m\"\u001b[39m: \u001b[38;5;124m\"\u001b[39m\u001b[38;5;124m,\u001b[39m\u001b[38;5;124m\"\u001b[39m},\n\u001b[0;32m    947\u001b[0m )\n\u001b[0;32m    948\u001b[0m kwds\u001b[38;5;241m.\u001b[39mupdate(kwds_defaults)\n\u001b[1;32m--> 950\u001b[0m \u001b[38;5;28;01mreturn\u001b[39;00m \u001b[43m_read\u001b[49m\u001b[43m(\u001b[49m\u001b[43mfilepath_or_buffer\u001b[49m\u001b[43m,\u001b[49m\u001b[43m \u001b[49m\u001b[43mkwds\u001b[49m\u001b[43m)\u001b[49m\n",
      "File \u001b[1;32mC:\\ProgramData\\anaconda3\\lib\\site-packages\\pandas\\io\\parsers\\readers.py:605\u001b[0m, in \u001b[0;36m_read\u001b[1;34m(filepath_or_buffer, kwds)\u001b[0m\n\u001b[0;32m    602\u001b[0m _validate_names(kwds\u001b[38;5;241m.\u001b[39mget(\u001b[38;5;124m\"\u001b[39m\u001b[38;5;124mnames\u001b[39m\u001b[38;5;124m\"\u001b[39m, \u001b[38;5;28;01mNone\u001b[39;00m))\n\u001b[0;32m    604\u001b[0m \u001b[38;5;66;03m# Create the parser.\u001b[39;00m\n\u001b[1;32m--> 605\u001b[0m parser \u001b[38;5;241m=\u001b[39m TextFileReader(filepath_or_buffer, \u001b[38;5;241m*\u001b[39m\u001b[38;5;241m*\u001b[39mkwds)\n\u001b[0;32m    607\u001b[0m \u001b[38;5;28;01mif\u001b[39;00m chunksize \u001b[38;5;129;01mor\u001b[39;00m iterator:\n\u001b[0;32m    608\u001b[0m     \u001b[38;5;28;01mreturn\u001b[39;00m parser\n",
      "File \u001b[1;32mC:\\ProgramData\\anaconda3\\lib\\site-packages\\pandas\\io\\parsers\\readers.py:1442\u001b[0m, in \u001b[0;36mTextFileReader.__init__\u001b[1;34m(self, f, engine, **kwds)\u001b[0m\n\u001b[0;32m   1439\u001b[0m     \u001b[38;5;28mself\u001b[39m\u001b[38;5;241m.\u001b[39moptions[\u001b[38;5;124m\"\u001b[39m\u001b[38;5;124mhas_index_names\u001b[39m\u001b[38;5;124m\"\u001b[39m] \u001b[38;5;241m=\u001b[39m kwds[\u001b[38;5;124m\"\u001b[39m\u001b[38;5;124mhas_index_names\u001b[39m\u001b[38;5;124m\"\u001b[39m]\n\u001b[0;32m   1441\u001b[0m \u001b[38;5;28mself\u001b[39m\u001b[38;5;241m.\u001b[39mhandles: IOHandles \u001b[38;5;241m|\u001b[39m \u001b[38;5;28;01mNone\u001b[39;00m \u001b[38;5;241m=\u001b[39m \u001b[38;5;28;01mNone\u001b[39;00m\n\u001b[1;32m-> 1442\u001b[0m \u001b[38;5;28mself\u001b[39m\u001b[38;5;241m.\u001b[39m_engine \u001b[38;5;241m=\u001b[39m \u001b[38;5;28;43mself\u001b[39;49m\u001b[38;5;241;43m.\u001b[39;49m\u001b[43m_make_engine\u001b[49m\u001b[43m(\u001b[49m\u001b[43mf\u001b[49m\u001b[43m,\u001b[49m\u001b[43m \u001b[49m\u001b[38;5;28;43mself\u001b[39;49m\u001b[38;5;241;43m.\u001b[39;49m\u001b[43mengine\u001b[49m\u001b[43m)\u001b[49m\n",
      "File \u001b[1;32mC:\\ProgramData\\anaconda3\\lib\\site-packages\\pandas\\io\\parsers\\readers.py:1753\u001b[0m, in \u001b[0;36mTextFileReader._make_engine\u001b[1;34m(self, f, engine)\u001b[0m\n\u001b[0;32m   1750\u001b[0m     \u001b[38;5;28;01mraise\u001b[39;00m \u001b[38;5;167;01mValueError\u001b[39;00m(msg)\n\u001b[0;32m   1752\u001b[0m \u001b[38;5;28;01mtry\u001b[39;00m:\n\u001b[1;32m-> 1753\u001b[0m     \u001b[38;5;28;01mreturn\u001b[39;00m mapping[engine](f, \u001b[38;5;241m*\u001b[39m\u001b[38;5;241m*\u001b[39m\u001b[38;5;28mself\u001b[39m\u001b[38;5;241m.\u001b[39moptions)\n\u001b[0;32m   1754\u001b[0m \u001b[38;5;28;01mexcept\u001b[39;00m \u001b[38;5;167;01mException\u001b[39;00m:\n\u001b[0;32m   1755\u001b[0m     \u001b[38;5;28;01mif\u001b[39;00m \u001b[38;5;28mself\u001b[39m\u001b[38;5;241m.\u001b[39mhandles \u001b[38;5;129;01mis\u001b[39;00m \u001b[38;5;129;01mnot\u001b[39;00m \u001b[38;5;28;01mNone\u001b[39;00m:\n",
      "File \u001b[1;32mC:\\ProgramData\\anaconda3\\lib\\site-packages\\pandas\\io\\parsers\\c_parser_wrapper.py:79\u001b[0m, in \u001b[0;36mCParserWrapper.__init__\u001b[1;34m(self, src, **kwds)\u001b[0m\n\u001b[0;32m     76\u001b[0m     kwds\u001b[38;5;241m.\u001b[39mpop(key, \u001b[38;5;28;01mNone\u001b[39;00m)\n\u001b[0;32m     78\u001b[0m kwds[\u001b[38;5;124m\"\u001b[39m\u001b[38;5;124mdtype\u001b[39m\u001b[38;5;124m\"\u001b[39m] \u001b[38;5;241m=\u001b[39m ensure_dtype_objs(kwds\u001b[38;5;241m.\u001b[39mget(\u001b[38;5;124m\"\u001b[39m\u001b[38;5;124mdtype\u001b[39m\u001b[38;5;124m\"\u001b[39m, \u001b[38;5;28;01mNone\u001b[39;00m))\n\u001b[1;32m---> 79\u001b[0m \u001b[38;5;28mself\u001b[39m\u001b[38;5;241m.\u001b[39m_reader \u001b[38;5;241m=\u001b[39m parsers\u001b[38;5;241m.\u001b[39mTextReader(src, \u001b[38;5;241m*\u001b[39m\u001b[38;5;241m*\u001b[39mkwds)\n\u001b[0;32m     81\u001b[0m \u001b[38;5;28mself\u001b[39m\u001b[38;5;241m.\u001b[39munnamed_cols \u001b[38;5;241m=\u001b[39m \u001b[38;5;28mself\u001b[39m\u001b[38;5;241m.\u001b[39m_reader\u001b[38;5;241m.\u001b[39munnamed_cols\n\u001b[0;32m     83\u001b[0m \u001b[38;5;66;03m# error: Cannot determine type of 'names'\u001b[39;00m\n",
      "File \u001b[1;32mC:\\ProgramData\\anaconda3\\lib\\site-packages\\pandas\\_libs\\parsers.pyx:547\u001b[0m, in \u001b[0;36mpandas._libs.parsers.TextReader.__cinit__\u001b[1;34m()\u001b[0m\n",
      "File \u001b[1;32mC:\\ProgramData\\anaconda3\\lib\\site-packages\\pandas\\_libs\\parsers.pyx:636\u001b[0m, in \u001b[0;36mpandas._libs.parsers.TextReader._get_header\u001b[1;34m()\u001b[0m\n",
      "File \u001b[1;32mC:\\ProgramData\\anaconda3\\lib\\site-packages\\pandas\\_libs\\parsers.pyx:852\u001b[0m, in \u001b[0;36mpandas._libs.parsers.TextReader._tokenize_rows\u001b[1;34m()\u001b[0m\n",
      "File \u001b[1;32mC:\\ProgramData\\anaconda3\\lib\\site-packages\\pandas\\_libs\\parsers.pyx:1965\u001b[0m, in \u001b[0;36mpandas._libs.parsers.raise_parser_error\u001b[1;34m()\u001b[0m\n",
      "\u001b[1;31mUnicodeDecodeError\u001b[0m: 'utf-8' codec can't decode byte 0xfd in position 1318: invalid start byte"
     ]
    }
   ],
   "source": [
    "all_data = []\n",
    "for year in range(2019, 2022):\n",
    "    data = pd.read_csv(f'C:\\\\Users\\\\Serhan\\\\Desktop\\\\CS210 Proje\\\\Sanity-Check\\\\data\\\\csv\\\\data_{year}.csv', encoding='ISO-8859-1')\n",
    "    education_index = calculate_education_index(data, weights)\n",
    "    data['education_index'] = education_index\n",
    "    data['year'] = year\n",
    "    all_data.append(data)"
   ]
  },
  {
   "cell_type": "markdown",
   "metadata": {
    "id": "WRE_utS34pe_"
   },
   "source": [
    "##Combine the Data for All Years\n"
   ]
  },
  {
   "cell_type": "code",
   "execution_count": null,
   "metadata": {
    "id": "wPBIeQgt4sMn"
   },
   "outputs": [],
   "source": [
    "combined_data = pd.concat(all_data, ignore_index=True)\n"
   ]
  },
  {
   "cell_type": "markdown",
   "metadata": {
    "id": "wa3mkl6k-2Of"
   },
   "source": [
    "#Some Data Visualization to See Our Work"
   ]
  },
  {
   "cell_type": "markdown",
   "metadata": {
    "id": "Gy08FmYd9Vr3"
   },
   "source": [
    "##Visualize the Correlation Matrix Heatmap"
   ]
  },
  {
   "cell_type": "code",
   "execution_count": null,
   "metadata": {
    "id": "g4USUSL59Y9P"
   },
   "outputs": [],
   "source": [
    "corr_matrix = combined_data.corr()\n",
    "plt.figure(figsize=(12, 12))\n",
    "sns.heatmap(corr_matrix, annot=True, cmap='coolwarm')\n",
    "plt.title('Correlation Matrix Heatmap')\n",
    "plt.show()"
   ]
  },
  {
   "cell_type": "markdown",
   "metadata": {
    "id": "pl1mtTmU6Mdv"
   },
   "source": [
    "##Visualize the Actual Values for Every Column for the Years 2012 to 2020"
   ]
  },
  {
   "cell_type": "code",
   "execution_count": null,
   "metadata": {
    "id": "55Qb98YX6TS_"
   },
   "outputs": [],
   "source": [
    "for column in weights.keys():\n",
    "    plt.plot(combined_data['year'], combined_data[column], marker='o', label=column)\n",
    "plt.xlabel('Year')\n",
    "plt.ylabel('Actual Values')\n",
    "plt.title('Actual Values for Each Column (2012-2020)')\n",
    "plt.legend()\n",
    "plt.grid()\n",
    "plt.show()"
   ]
  },
  {
   "cell_type": "markdown",
   "metadata": {
    "id": "UzwnuNM-8YFg"
   },
   "source": [
    "##Visualize the Calculated Education Index for the Years 2012 to 2020"
   ]
  },
  {
   "cell_type": "code",
   "execution_count": null,
   "metadata": {
    "id": "XawDkzvo8gJI"
   },
   "outputs": [],
   "source": [
    "plt.plot(combined_data['year'], combined_data['education_index'], marker='o')\n",
    "plt.xlabel('Year')\n",
    "plt.ylabel('Actual Education Index')\n",
    "plt.title('Actual Education Index for 2012-2020')\n",
    "plt.grid()\n",
    "plt.show()"
   ]
  },
  {
   "cell_type": "markdown",
   "metadata": {
    "id": "EMjR65X65Ktf"
   },
   "source": [
    "#Prepare the Future Data"
   ]
  },
  {
   "cell_type": "code",
   "execution_count": null,
   "metadata": {
    "id": "-3tlZXz55MlH"
   },
   "outputs": [],
   "source": [
    "future_years = np.arange(2021, 2031)\n",
    "future_data = pd.DataFrame({'year': future_years})"
   ]
  },
  {
   "cell_type": "markdown",
   "metadata": {
    "id": "D94dFuS95O3H"
   },
   "source": [
    "#Predict Each Column for the Years 2021 to 2030"
   ]
  },
  {
   "cell_type": "code",
   "execution_count": null,
   "metadata": {
    "id": "qpsE6dod5TMX"
   },
   "outputs": [],
   "source": [
    "for column in weights.keys():\n",
    "    X_train = combined_data[['year']]\n",
    "    y_train = combined_data[column]\n",
    "    future_data[column] = train_and_predict(X_train, y_train, future_data[['year']])"
   ]
  },
  {
   "cell_type": "markdown",
   "metadata": {
    "id": "gBNIplKA5WWf"
   },
   "source": [
    "#Calculate the Education Index for the Predicted Values"
   ]
  },
  {
   "cell_type": "code",
   "execution_count": null,
   "metadata": {
    "id": "ZuSJriFr5cvf"
   },
   "outputs": [],
   "source": [
    "# Calculate the education index for the predicted values\n",
    "future_data['predicted_education_index'] = calculate_education_index(future_data, weights)"
   ]
  },
  {
   "cell_type": "markdown",
   "metadata": {
    "id": "Zya1-nho5hC_"
   },
   "source": [
    "#Visualize the Predicted Education Index for the Years 2021 to 2030"
   ]
  },
  {
   "cell_type": "code",
   "execution_count": null,
   "metadata": {
    "id": "V2tAVfhQ5wdX"
   },
   "outputs": [],
   "source": [
    "plt.plot(future_data['year'], future_data['predicted_education_index'], marker='o')\n",
    "plt.xlabel('Year')\n",
    "plt.ylabel('Predicted Education Index')\n",
    "plt.title('Predicted Education Index for 2021-2030')\n",
    "plt.grid()\n",
    "plt.show()"
   ]
  },
  {
   "cell_type": "markdown",
   "metadata": {
    "id": "DeVbjo7D-F0_"
   },
   "source": [
    "#Combine the Actual and Predicted Indexes Into One DataFrame"
   ]
  },
  {
   "cell_type": "code",
   "execution_count": null,
   "metadata": {
    "id": "OWuuEG_c-K6X"
   },
   "outputs": [],
   "source": [
    "actual_indexes = combined_data[['year', 'education_index']].rename(columns={'education_index': 'actual_education_index'})\n",
    "predicted_indexes = future_data[['year', 'predicted_education_index']]\n",
    "all_indexes = pd.concat([actual_indexes, predicted_indexes], axis=1)"
   ]
  },
  {
   "cell_type": "markdown",
   "metadata": {
    "id": "xzSXI9em-RRO"
   },
   "source": [
    "#Plot the Actual and Predicted Education Indexes"
   ]
  },
  {
   "cell_type": "code",
   "execution_count": null,
   "metadata": {
    "id": "CY3UsWUu-Zpf"
   },
   "outputs": [],
   "source": [
    "plt.plot(all_indexes['year'], all_indexes['actual_education_index'], marker='o', label='Actual Education Index (2012-2020)')\n",
    "plt.plot(all_indexes['year'], all_indexes['predicted_education_index'], marker='o', linestyle='--', label='Predicted Education Index (2021-2030)')\n",
    "plt.xlabel('Year')\n",
    "plt.ylabel('Education Index')\n",
    "plt.title('Actual and Predicted Education Index (2012-2030)')\n",
    "plt.legend()\n",
    "plt.grid()\n",
    "plt.show()"
   ]
  },
  {
   "cell_type": "markdown",
   "metadata": {
    "id": "onLcheLwDIbX"
   },
   "source": [
    "#Our Project Ends Here, See You In Future Projects!"
   ]
  }
 ],
 "metadata": {
  "colab": {
   "provenance": []
  },
  "kernelspec": {
   "display_name": "Python 3 (ipykernel)",
   "language": "python",
   "name": "python3"
  },
  "language_info": {
   "codemirror_mode": {
    "name": "ipython",
    "version": 3
   },
   "file_extension": ".py",
   "mimetype": "text/x-python",
   "name": "python",
   "nbconvert_exporter": "python",
   "pygments_lexer": "ipython3",
   "version": "3.10.9"
  }
 },
 "nbformat": 4,
 "nbformat_minor": 1
}
